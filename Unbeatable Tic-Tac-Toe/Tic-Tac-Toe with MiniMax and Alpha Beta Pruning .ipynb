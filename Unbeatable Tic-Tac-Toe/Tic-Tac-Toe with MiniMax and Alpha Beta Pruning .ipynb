{
 "cells": [
  {
   "cell_type": "markdown",
   "id": "62046eca",
   "metadata": {},
   "source": [
    "#### MiniMax Algorithm with Alpha Beta Pruning "
   ]
  },
  {
   "cell_type": "code",
   "execution_count": 11,
   "id": "95f3b65b",
   "metadata": {},
   "outputs": [],
   "source": [
    "def winning_conditions(grid):\n",
    "    winner = 'null'\n",
    "    # if row elements are same \n",
    "    for i in range(len(grid)):\n",
    "        if grid[i][0] == grid[i][1] and grid[i][1] == grid[i][2] and grid[i][0] != '_':\n",
    "            winner = grid[i][0]\n",
    "            \n",
    "    # if column elements are same \n",
    "    for i in range(len(grid)):\n",
    "        if grid[0][i] == grid[1][i] and grid[1][i] == grid[2][i] and grid[0][i] != '_':\n",
    "            winner = grid[0][i]\n",
    "            \n",
    "    # if diagonal elements are same\n",
    "    if grid[0][0] == grid[1][1] and grid[1][1] == grid[2][2] and grid[0][0] != '_':\n",
    "            winner = grid[0][0]\n",
    "    if grid[0][2] == grid[1][1] and grid[1][1] == grid[2][0] and grid[0][2] != '_':\n",
    "            winner = grid[0][2]\n",
    "    if len(possible_moves(grid)) == 0 and winner == 'null':\n",
    "        winner = 'tie'\n",
    "        \n",
    "    if winner == None:\n",
    "        return None\n",
    "    else:\n",
    "        return winner "
   ]
  },
  {
   "cell_type": "markdown",
   "id": "969f467d",
   "metadata": {},
   "source": [
    "Checks all the blank i.e., available spaces in the grid "
   ]
  },
  {
   "cell_type": "code",
   "execution_count": 12,
   "id": "3d6ce5e3",
   "metadata": {},
   "outputs": [],
   "source": [
    "def possible_moves(grid):\n",
    "    blank = []\n",
    "    for i in range(len(grid)):\n",
    "        for j in range(len(grid[i])):\n",
    "            if grid[i][j] == '_':\n",
    "                blank.append([i,j])\n",
    "    return blank"
   ]
  },
  {
   "cell_type": "markdown",
   "id": "a695c313",
   "metadata": {},
   "source": [
    "Prints thegrid "
   ]
  },
  {
   "cell_type": "code",
   "execution_count": 13,
   "id": "3af52bcb",
   "metadata": {},
   "outputs": [],
   "source": [
    "def print_grid(grid):\n",
    "    for i in range(len(grid)):\n",
    "        print(\"|\".join(grid[i]))"
   ]
  },
  {
   "cell_type": "markdown",
   "id": "4ef14cb2",
   "metadata": {},
   "source": [
    "Implementation of the algorithm "
   ]
  },
  {
   "cell_type": "code",
   "execution_count": 14,
   "id": "a215f396",
   "metadata": {},
   "outputs": [],
   "source": [
    "def minimax_algorithm(grid, depth, alpha, beta, isMaximising):\n",
    "    result = winning_conditions(grid)\n",
    "    \n",
    "    if result != \"null\":\n",
    "        return scores[result]\n",
    "    \n",
    "    # maximising \n",
    "    if isMaximising:\n",
    "        bestScore = -100\n",
    "        blank = possible_moves(grid)\n",
    "        for [x,y] in blank:\n",
    "            ### Recursion ### \n",
    "            grid[x][y] = 'X'\n",
    "            score = minimax_algorithm(grid, depth+1, alpha, beta, False)\n",
    "            alpha = max(alpha, score)\n",
    "            grid[x][y] = '_'\n",
    "            bestScore = max(score, bestScore)\n",
    "            if beta <= alpha:\n",
    "                break \n",
    "                \n",
    "        return bestScore \n",
    "    \n",
    "    # minimising \n",
    "    else:\n",
    "        bestScore = 100 \n",
    "        blank = possible_moves(grid)\n",
    "        for [x,y] in blank:\n",
    "            ### Recursion ### \n",
    "            grid[x][y] = 'o'\n",
    "            score = minimax_algorithm(grid, depth+1, alpha, beta, True)\n",
    "            beta = min(beta, score)\n",
    "            grid[x][y] = '_'\n",
    "            bestScore = min(score, bestScore)\n",
    "            if beta <= alpha:\n",
    "                break \n",
    "                \n",
    "        return bestScore "
   ]
  },
  {
   "cell_type": "markdown",
   "id": "5d58fae2",
   "metadata": {},
   "source": [
    "Assigning values for alpha and beta, recusive cal to the algorithm "
   ]
  },
  {
   "cell_type": "code",
   "execution_count": 15,
   "id": "faa0be0e",
   "metadata": {},
   "outputs": [],
   "source": [
    "def play(grid):\n",
    "    blank = possible_moves(grid)\n",
    "    alpha = -100\n",
    "    beta = 100 \n",
    "    move = []\n",
    "    \n",
    "    if len(blank) > 0:\n",
    "        bestScore = 100 \n",
    "        for [x,y] in blank:\n",
    "            ### Recursion ### \n",
    "            grid[x][y] = 'o'\n",
    "            score = minimax_algorithm(grid, 0, alpha, beta, True)\n",
    "            grid[x][y] = '_'\n",
    "            # update best score \n",
    "            if score < bestScore:\n",
    "                bestScore = score \n",
    "                move = [x,y]\n",
    "                \n",
    "            \n",
    "        grid[move[0]][move[1]] = 'o'\n",
    "        print(\"computer played its move!\")\n",
    "        \n",
    "    else:\n",
    "        print(winning_conditions(grid))"
   ]
  },
  {
   "cell_type": "markdown",
   "id": "933defd7",
   "metadata": {},
   "source": [
    "Main function"
   ]
  },
  {
   "cell_type": "code",
   "execution_count": 18,
   "id": "a4b7322d",
   "metadata": {
    "scrolled": true
   },
   "outputs": [
    {
     "name": "stdout",
     "output_type": "stream",
     "text": [
      "==============================\n",
      "Tic Tac Toe\n",
      "==============================\n",
      "_|_|_\n",
      "_|_|_\n",
      "_|_|_\n",
      "Enter your choice:0 0\n",
      "X|_|_\n",
      "_|_|_\n",
      "_|_|_\n",
      "computer played its move!\n",
      "X|_|_\n",
      "_|o|_\n",
      "_|_|_\n",
      "=========================\n",
      "Enter your choice:0 2\n",
      "X|_|X\n",
      "_|o|_\n",
      "_|_|_\n",
      "computer played its move!\n",
      "X|o|X\n",
      "_|o|_\n",
      "_|_|_\n",
      "=========================\n",
      "Enter your choice:2 1\n",
      "X|o|X\n",
      "_|o|_\n",
      "_|X|_\n",
      "computer played its move!\n",
      "X|o|X\n",
      "o|o|_\n",
      "_|X|_\n",
      "=========================\n",
      "Enter your choice:2 2\n",
      "X|o|X\n",
      "o|o|_\n",
      "_|X|X\n",
      "computer played its move!\n",
      "X|o|X\n",
      "o|o|o\n",
      "_|X|X\n",
      "=========================\n",
      "=========================\n",
      "AI won!\n",
      "=========================\n"
     ]
    }
   ],
   "source": [
    "scores = {\n",
    "    'X': 1,\n",
    "    'o': -1, \n",
    "    'tie': 0\n",
    "}\n",
    "def main():\n",
    "    print(\"=\"*30)\n",
    "    print(\"Tic Tac Toe\")\n",
    "    print(\"=\"*30)\n",
    "    grid = [['_', '_', '_'],['_', '_', '_'],['_', '_', '_']]\n",
    "    print_grid(grid)\n",
    "    \n",
    "    while len(possible_moves(grid)) > 0:\n",
    "        x, y = input(\"Enter your choice:\").split(\" \")\n",
    "        x, y = int(x), int(y)\n",
    "        grid[x][y] = 'X'\n",
    "        print_grid(grid)\n",
    "        play(grid)\n",
    "        print_grid(grid)\n",
    "        \n",
    "        print(\"=\"*25)\n",
    "        if (winning_conditions(grid)) == 'o':\n",
    "            print(\"=\"*25)\n",
    "            print(\"AI won!\")\n",
    "            print(\"=\"*25)\n",
    "            break \n",
    "        \n",
    "        elif (winning_conditions(grid)) == 'X':\n",
    "            print(\"=\"*25)\n",
    "            print(\"Player won!\")\n",
    "            print(\"=\"*25)\n",
    "            break \n",
    "            \n",
    "        elif (winning_conditions(grid)) == 'tie':\n",
    "            print(\"=\"*25)\n",
    "            print(\"Game Tie!\")\n",
    "            print(\"=\"*25)\n",
    "            break \n",
    "            \n",
    "main()"
   ]
  }
 ],
 "metadata": {
  "kernelspec": {
   "display_name": "Python 3 (ipykernel)",
   "language": "python",
   "name": "python3"
  },
  "language_info": {
   "codemirror_mode": {
    "name": "ipython",
    "version": 3
   },
   "file_extension": ".py",
   "mimetype": "text/x-python",
   "name": "python",
   "nbconvert_exporter": "python",
   "pygments_lexer": "ipython3",
   "version": "3.9.12"
  }
 },
 "nbformat": 4,
 "nbformat_minor": 5
}

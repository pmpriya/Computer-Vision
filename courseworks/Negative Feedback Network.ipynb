{
 "cells": [
  {
   "cell_type": "markdown",
   "id": "d1f28933",
   "metadata": {},
   "source": [
    "### NETWORK FEEDBACK NETWORK ALGORITHM\n",
    "\n",
    "## IMPLEMENTATION OF ACTIVATION FUNCTION"
   ]
  },
  {
   "cell_type": "markdown",
   "id": "6d464cc6",
   "metadata": {},
   "source": [
    "![](nfn.png)"
   ]
  },
  {
   "cell_type": "code",
   "execution_count": 33,
   "id": "d5877c0a",
   "metadata": {},
   "outputs": [],
   "source": [
    "# SPECIFY THE OUTPUT LAYER Y NP.ZEROS "
   ]
  },
  {
   "cell_type": "code",
   "execution_count": 41,
   "id": "8077fb93",
   "metadata": {},
   "outputs": [],
   "source": [
    "from prettytable import PrettyTable\n",
    "import numpy as np\n",
    "\n",
    "def negative_feedback_network_algorithm(x,w,n,y,iterations):\n",
    "    result = []\n",
    "    for iteration in range(0, iterations):\n",
    "        wt = w.transpose()\n",
    "        e = x - np.dot(wt,y)\n",
    "        we = np.dot(w,e)\n",
    "        y = y + n*we\n",
    "        wty = np.dot(wt,y)\n",
    "        result.append((str(iteration+1), e.transpose(), we.transpose(), y.transpose(), wty.transpose()))\n",
    "                      \n",
    "    # pretty table\n",
    "    pt = PrettyTable(('iteration', 'e', 'we', 'y', 'wty'))\n",
    "    for row in result: pt.add_row(row)\n",
    "\n",
    "    pt.align['iteration'] = 'c'\n",
    "    pt.align['e'] = 'l'\n",
    "    pt.align['we'] = 'l'\n",
    "    pt.align['y'] = 'l'\n",
    "    pt.align['wty'] = 'l'\n",
    "\n",
    "    print(pt)"
   ]
  },
  {
   "cell_type": "code",
   "execution_count": 43,
   "id": "ccf65d18",
   "metadata": {
    "scrolled": true
   },
   "outputs": [],
   "source": [
    "import numpy as np\n",
    "w = np.array([[1,1,0], [1,1,1]])\n",
    "iterations = 5\n",
    "x = np.array([1,1,0])\n",
    "x = x.transpose()\n",
    "n = 0.5\n",
    "y = np.zeros(2)\n",
    "\n"
   ]
  },
  {
   "cell_type": "code",
   "execution_count": 44,
   "id": "76c10db3",
   "metadata": {
    "scrolled": true
   },
   "outputs": [
    {
     "name": "stdout",
     "output_type": "stream",
     "text": [
      "+-----------+---------------------+---------------+-----------------+------------------------+\n",
      "| iteration | e                   | we            | y               | wty                    |\n",
      "+-----------+---------------------+---------------+-----------------+------------------------+\n",
      "|     1     | [1. 1. 0.]          | [2. 2.]       | [1. 1.]         | [2. 2. 1.]             |\n",
      "|     2     | [-1. -1. -1.]       | [-2. -3.]     | [ 0.  -0.5]     | [-0.5 -0.5 -0.5]       |\n",
      "|     3     | [1.5 1.5 0.5]       | [3.  3.5]     | [1.5  1.25]     | [2.75 2.75 1.25]       |\n",
      "|     4     | [-1.75 -1.75 -1.25] | [-3.5  -4.75] | [-0.25  -1.125] | [-1.375 -1.375 -1.125] |\n",
      "|     5     | [2.375 2.375 1.125] | [4.75  5.875] | [2.125  1.8125] | [3.9375 3.9375 1.8125] |\n",
      "+-----------+---------------------+---------------+-----------------+------------------------+\n"
     ]
    }
   ],
   "source": [
    "negative_feedback_network_algorithm(x,w,n,y,iterations)"
   ]
  },
  {
   "cell_type": "code",
   "execution_count": 45,
   "id": "472af29d",
   "metadata": {},
   "outputs": [],
   "source": [
    "# end of algorithm"
   ]
  },
  {
   "cell_type": "code",
   "execution_count": null,
   "id": "25980ae2",
   "metadata": {},
   "outputs": [],
   "source": []
  }
 ],
 "metadata": {
  "kernelspec": {
   "display_name": "Python 3 (ipykernel)",
   "language": "python",
   "name": "python3"
  },
  "language_info": {
   "codemirror_mode": {
    "name": "ipython",
    "version": 3
   },
   "file_extension": ".py",
   "mimetype": "text/x-python",
   "name": "python",
   "nbconvert_exporter": "python",
   "pygments_lexer": "ipython3",
   "version": "3.8.10"
  }
 },
 "nbformat": 4,
 "nbformat_minor": 5
}

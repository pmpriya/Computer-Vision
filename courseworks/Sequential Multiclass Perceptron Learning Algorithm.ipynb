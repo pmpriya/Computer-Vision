{
 "cells": [
  {
   "cell_type": "code",
   "execution_count": 1,
   "id": "9c3948c9",
   "metadata": {},
   "outputs": [],
   "source": [
    "import numpy as np\n",
    "from operator import add, sub\n",
    "#passing the augmented dataset, class labels, no of linear discriminant functions, learning rate\n",
    "def sequential_multiclass_perceptron(w,yt,n,j,epochs=2):\n",
    "    at = []\n",
    "    g = []\n",
    "    result = []\n",
    "    for i in range(0, j):\n",
    "        at.append([0,0,0])\n",
    "    for epoch in range(1, epochs+1):\n",
    "        print(\"Epoch %i \" % epoch)\n",
    "        for index, (yk,wk) in enumerate(zip(yt,w)):\n",
    "            at_prev = at.copy()\n",
    "            for val in at[1:]:\n",
    "                g.append(np.dot(val,yk))\n",
    "            j = max(g)\n",
    "            # if pred class != true class, then update weights\n",
    "            if(j != wk):\n",
    "                at[wk] = list(map(add, at[wk], n*yk))\n",
    "                at[j] = list(map(sub, at[j], n*yk))\n",
    "            \n",
    "            print(\"> at_prev: %s, yk: %s, g: %s, wk: %s, at: %s\" % (str(at_prev), str(yk), str(g), str(wk), str(at)))\n",
    "            g = []\n",
    "        print(\"\")  \n",
    "                  "
   ]
  },
  {
   "cell_type": "code",
   "execution_count": 2,
   "id": "84f296da",
   "metadata": {
    "scrolled": true
   },
   "outputs": [
    {
     "name": "stdout",
     "output_type": "stream",
     "text": [
      "Epoch 1 \n",
      "> at_prev: [[0, 0, 0], [0, 0, 0], [0, 0, 0]], yk: [1, 1, 1], g: [0, 0], wk: 1, at: [[-1, -1, -1], [1, 1, 1], [0, 0, 0]]\n"
     ]
    },
    {
     "ename": "IndexError",
     "evalue": "list index out of range",
     "output_type": "error",
     "traceback": [
      "\u001b[0;31m---------------------------------------------------------------------------\u001b[0m",
      "\u001b[0;31mIndexError\u001b[0m                                Traceback (most recent call last)",
      "Input \u001b[0;32mIn [2]\u001b[0m, in \u001b[0;36m<module>\u001b[0;34m\u001b[0m\n\u001b[1;32m      1\u001b[0m yt \u001b[38;5;241m=\u001b[39m [[\u001b[38;5;241m1\u001b[39m,\u001b[38;5;241m1\u001b[39m,\u001b[38;5;241m1\u001b[39m], [\u001b[38;5;241m1\u001b[39m,\u001b[38;5;241m2\u001b[39m,\u001b[38;5;241m0\u001b[39m], [\u001b[38;5;241m1\u001b[39m,\u001b[38;5;241m0\u001b[39m,\u001b[38;5;241m2\u001b[39m], [\u001b[38;5;241m1\u001b[39m,\u001b[38;5;241m-\u001b[39m\u001b[38;5;241m1\u001b[39m,\u001b[38;5;241m1\u001b[39m], [\u001b[38;5;241m1\u001b[39m,\u001b[38;5;241m-\u001b[39m\u001b[38;5;241m1\u001b[39m,\u001b[38;5;241m-\u001b[39m\u001b[38;5;241m1\u001b[39m]]\n\u001b[1;32m      2\u001b[0m w \u001b[38;5;241m=\u001b[39m [\u001b[38;5;241m1\u001b[39m,\u001b[38;5;241m1\u001b[39m,\u001b[38;5;241m2\u001b[39m,\u001b[38;5;241m2\u001b[39m,\u001b[38;5;241m3\u001b[39m]\n\u001b[0;32m----> 4\u001b[0m \u001b[43msequential_multiclass_perceptron\u001b[49m\u001b[43m(\u001b[49m\u001b[43mw\u001b[49m\u001b[43m,\u001b[49m\u001b[43myt\u001b[49m\u001b[43m,\u001b[49m\u001b[38;5;241;43m1\u001b[39;49m\u001b[43m,\u001b[49m\u001b[38;5;241;43m3\u001b[39;49m\u001b[43m)\u001b[49m\n",
      "Input \u001b[0;32mIn [1]\u001b[0m, in \u001b[0;36msequential_multiclass_perceptron\u001b[0;34m(w, yt, n, j, epochs)\u001b[0m\n\u001b[1;32m     18\u001b[0m \u001b[38;5;28;01mif\u001b[39;00m(j \u001b[38;5;241m!=\u001b[39m wk):\n\u001b[1;32m     19\u001b[0m     at[wk] \u001b[38;5;241m=\u001b[39m \u001b[38;5;28mlist\u001b[39m(\u001b[38;5;28mmap\u001b[39m(add, at[wk], n\u001b[38;5;241m*\u001b[39myk))\n\u001b[0;32m---> 20\u001b[0m     at[j] \u001b[38;5;241m=\u001b[39m \u001b[38;5;28mlist\u001b[39m(\u001b[38;5;28mmap\u001b[39m(sub, \u001b[43mat\u001b[49m\u001b[43m[\u001b[49m\u001b[43mj\u001b[49m\u001b[43m]\u001b[49m, n\u001b[38;5;241m*\u001b[39myk))\n\u001b[1;32m     22\u001b[0m \u001b[38;5;28mprint\u001b[39m(\u001b[38;5;124m\"\u001b[39m\u001b[38;5;124m> at_prev: \u001b[39m\u001b[38;5;132;01m%s\u001b[39;00m\u001b[38;5;124m, yk: \u001b[39m\u001b[38;5;132;01m%s\u001b[39;00m\u001b[38;5;124m, g: \u001b[39m\u001b[38;5;132;01m%s\u001b[39;00m\u001b[38;5;124m, wk: \u001b[39m\u001b[38;5;132;01m%s\u001b[39;00m\u001b[38;5;124m, at: \u001b[39m\u001b[38;5;132;01m%s\u001b[39;00m\u001b[38;5;124m\"\u001b[39m \u001b[38;5;241m%\u001b[39m (\u001b[38;5;28mstr\u001b[39m(at_prev), \u001b[38;5;28mstr\u001b[39m(yk), \u001b[38;5;28mstr\u001b[39m(g), \u001b[38;5;28mstr\u001b[39m(wk), \u001b[38;5;28mstr\u001b[39m(at)))\n\u001b[1;32m     23\u001b[0m g \u001b[38;5;241m=\u001b[39m []\n",
      "\u001b[0;31mIndexError\u001b[0m: list index out of range"
     ]
    }
   ],
   "source": [
    "yt = [[1,1,1], [1,2,0], [1,0,2], [1,-1,1], [1,-1,-1]]\n",
    "w = [1,1,2,2,3]\n",
    "\n",
    "sequential_multiclass_perceptron(w,yt,1,3)"
   ]
  },
  {
   "cell_type": "code",
   "execution_count": null,
   "id": "af5ce7f4",
   "metadata": {},
   "outputs": [],
   "source": []
  }
 ],
 "metadata": {
  "kernelspec": {
   "display_name": "Python 3 (ipykernel)",
   "language": "python",
   "name": "python3"
  },
  "language_info": {
   "codemirror_mode": {
    "name": "ipython",
    "version": 3
   },
   "file_extension": ".py",
   "mimetype": "text/x-python",
   "name": "python",
   "nbconvert_exporter": "python",
   "pygments_lexer": "ipython3",
   "version": "3.8.10"
  }
 },
 "nbformat": 4,
 "nbformat_minor": 5
}

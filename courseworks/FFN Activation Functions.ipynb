{
 "cells": [
  {
   "cell_type": "markdown",
   "id": "9ace6c10",
   "metadata": {},
   "source": [
    "### Implementaton of feed-forward neural network\n",
    "\n",
    "#### ReLU, LReLU, PReLU, tanH, symmetric-tangent-sigmoid, logarithmic-sigmoid, Heaviside"
   ]
  },
  {
   "cell_type": "markdown",
   "id": "0f669ddc",
   "metadata": {},
   "source": [
    "# ReLU"
   ]
  },
  {
   "cell_type": "code",
   "execution_count": 1,
   "id": "8410cf98",
   "metadata": {},
   "outputs": [],
   "source": [
    "def rectified_linear_unit(x):\n",
    "    return x if x > 0.0 else 0.0"
   ]
  },
  {
   "cell_type": "markdown",
   "id": "26e87da6",
   "metadata": {},
   "source": [
    "# LReLU"
   ]
  },
  {
   "cell_type": "code",
   "execution_count": 2,
   "id": "eb269ff4",
   "metadata": {},
   "outputs": [],
   "source": [
    "def leaky_rectified_linear_unit(x, a=0.1):\n",
    "    return parametric_rectified_linear_unit(x,a)"
   ]
  },
  {
   "cell_type": "markdown",
   "id": "e8861b31",
   "metadata": {},
   "source": [
    "# PReLU"
   ]
  },
  {
   "cell_type": "code",
   "execution_count": 3,
   "id": "52b94569",
   "metadata": {},
   "outputs": [],
   "source": [
    "def parametric_rectified_linear_unit(x,a=0.1):\n",
    "    return x if x > 0.0 else a*x"
   ]
  },
  {
   "cell_type": "markdown",
   "id": "c53f39a0",
   "metadata": {},
   "source": [
    "# TanH"
   ]
  },
  {
   "cell_type": "code",
   "execution_count": 5,
   "id": "0cec21a3",
   "metadata": {},
   "outputs": [],
   "source": [
    "from math import tanh\n",
    "def tanh_activation_function(x):\n",
    "    return tanh(x)"
   ]
  },
  {
   "cell_type": "markdown",
   "id": "e5f7d6d7",
   "metadata": {},
   "source": [
    "# Symmetric Tangent Sigmoid"
   ]
  },
  {
   "cell_type": "code",
   "execution_count": 6,
   "id": "498a0911",
   "metadata": {},
   "outputs": [],
   "source": [
    "from math import exp\n",
    "def symmetric_tangent_sigmoid_function(x):\n",
    "    return 2 / (1+exp(-2 * x)) - 1"
   ]
  },
  {
   "cell_type": "markdown",
   "id": "153475ed",
   "metadata": {},
   "source": [
    "# Log Sigmoid "
   ]
  },
  {
   "cell_type": "code",
   "execution_count": 7,
   "id": "27234f03",
   "metadata": {},
   "outputs": [],
   "source": [
    "from math import exp\n",
    "def logarithmic_sigmoid_function(x):\n",
    "    return 1/ (1+exp(-x))"
   ]
  },
  {
   "cell_type": "markdown",
   "id": "25b231ee",
   "metadata": {},
   "source": [
    "# Heaviside "
   ]
  },
  {
   "cell_type": "code",
   "execution_count": 8,
   "id": "20486fca",
   "metadata": {},
   "outputs": [],
   "source": [
    "def heaviside_function(x, threshold=0, h0=0.5):\n",
    "    x = round(x - threshold, 5)\n",
    "    if x > 0.0:\n",
    "        return 1.0\n",
    "    elif x < 0.0:\n",
    "        return 0.0\n",
    "    elif x == 0.0:\n",
    "        return h0"
   ]
  }
 ],
 "metadata": {
  "kernelspec": {
   "display_name": "Python 3 (ipykernel)",
   "language": "python",
   "name": "python3"
  },
  "language_info": {
   "codemirror_mode": {
    "name": "ipython",
    "version": 3
   },
   "file_extension": ".py",
   "mimetype": "text/x-python",
   "name": "python",
   "nbconvert_exporter": "python",
   "pygments_lexer": "ipython3",
   "version": "3.8.10"
  }
 },
 "nbformat": 4,
 "nbformat_minor": 5
}

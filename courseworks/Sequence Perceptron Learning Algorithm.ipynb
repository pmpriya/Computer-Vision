{
 "cells": [
  {
   "cell_type": "markdown",
   "id": "0ee5784f",
   "metadata": {},
   "source": [
    "### Sequence Perceptron Learning Algorithm \n",
    "\n",
    "##### note -  requires normalisation and augmented notation"
   ]
  },
  {
   "cell_type": "code",
   "execution_count": 1,
   "id": "83d4fc3d",
   "metadata": {},
   "outputs": [],
   "source": [
    "import numpy as np \n",
    "\n",
    "# initialize values for weights, samples, n, epochs \n",
    "\n",
    "def sequential_perceptron_learning(w,x,n,epochs):\n",
    "    w = np.array(w)\n",
    "    x = [np.array(xi) for xi in x]\n",
    "    \n",
    "    for epoch in range(1, epochs+1):\n",
    "        print(\"Epoch %i \" % epoch)\n",
    "        for xi in x:\n",
    "            pred = float(np.matmul(w.transpose(),xi))\n",
    "            if pred <=0:\n",
    "                w = w + n*xi\n",
    "            print(\" > x: %s, prediction: %.1f, weights: %s\" % (str(xi.transpose()), pred, str(w.transpose())))\n",
    "        print(\"\")\n",
    "        \n",
    "    return w"
   ]
  },
  {
   "cell_type": "code",
   "execution_count": 3,
   "id": "b0df90be",
   "metadata": {},
   "outputs": [
    {
     "name": "stdout",
     "output_type": "stream",
     "text": [
      "Epoch 1 \n",
      " > x: [1 0 2], prediction: 1.0, weights: [1 0 0]\n",
      " > x: [1 1 2], prediction: 1.0, weights: [1 0 0]\n",
      " > x: [1 2 1], prediction: 1.0, weights: [1 0 0]\n",
      " > x: [-1  3 -1], prediction: -1.0, weights: [ 0  3 -1]\n",
      " > x: [-1  2  1], prediction: 5.0, weights: [ 0  3 -1]\n",
      " > x: [-1  3  2], prediction: 7.0, weights: [ 0  3 -1]\n",
      "\n",
      "Epoch 2 \n",
      " > x: [1 0 2], prediction: -2.0, weights: [1 3 1]\n",
      " > x: [1 1 2], prediction: 6.0, weights: [1 3 1]\n",
      " > x: [1 2 1], prediction: 8.0, weights: [1 3 1]\n",
      " > x: [-1  3 -1], prediction: 7.0, weights: [1 3 1]\n",
      " > x: [-1  2  1], prediction: 6.0, weights: [1 3 1]\n",
      " > x: [-1  3  2], prediction: 10.0, weights: [1 3 1]\n",
      "\n",
      "Epoch 3 \n",
      " > x: [1 0 2], prediction: 3.0, weights: [1 3 1]\n",
      " > x: [1 1 2], prediction: 6.0, weights: [1 3 1]\n",
      " > x: [1 2 1], prediction: 8.0, weights: [1 3 1]\n",
      " > x: [-1  3 -1], prediction: 7.0, weights: [1 3 1]\n",
      " > x: [-1  2  1], prediction: 6.0, weights: [1 3 1]\n",
      " > x: [-1  3  2], prediction: 10.0, weights: [1 3 1]\n",
      "\n",
      "Epoch 4 \n",
      " > x: [1 0 2], prediction: 3.0, weights: [1 3 1]\n",
      " > x: [1 1 2], prediction: 6.0, weights: [1 3 1]\n",
      " > x: [1 2 1], prediction: 8.0, weights: [1 3 1]\n",
      " > x: [-1  3 -1], prediction: 7.0, weights: [1 3 1]\n",
      " > x: [-1  2  1], prediction: 6.0, weights: [1 3 1]\n",
      " > x: [-1  3  2], prediction: 10.0, weights: [1 3 1]\n",
      "\n",
      "Epoch 5 \n",
      " > x: [1 0 2], prediction: 3.0, weights: [1 3 1]\n",
      " > x: [1 1 2], prediction: 6.0, weights: [1 3 1]\n",
      " > x: [1 2 1], prediction: 8.0, weights: [1 3 1]\n",
      " > x: [-1  3 -1], prediction: 7.0, weights: [1 3 1]\n",
      " > x: [-1  2  1], prediction: 6.0, weights: [1 3 1]\n",
      " > x: [-1  3  2], prediction: 10.0, weights: [1 3 1]\n",
      "\n"
     ]
    },
    {
     "data": {
      "text/plain": [
       "array([1, 3, 1])"
      ]
     },
     "execution_count": 3,
     "metadata": {},
     "output_type": "execute_result"
    }
   ],
   "source": [
    "w = [1, 0, 0];\n",
    "n = 1;\n",
    "# augmented notation and sample normalization\n",
    "x = [[1,0,2], [1,1,2], [1,2,1], [-1,3,-1], [-1,2,1], [-1,3,2]];\n",
    "epochs = 5\n",
    "\n",
    "sequential_perceptron_learning(w,x,n,epochs)"
   ]
  },
  {
   "cell_type": "code",
   "execution_count": 4,
   "id": "db438b8b",
   "metadata": {},
   "outputs": [],
   "source": [
    "# End of Algorithm"
   ]
  }
 ],
 "metadata": {
  "kernelspec": {
   "display_name": "Python 3 (ipykernel)",
   "language": "python",
   "name": "python3"
  },
  "language_info": {
   "codemirror_mode": {
    "name": "ipython",
    "version": 3
   },
   "file_extension": ".py",
   "mimetype": "text/x-python",
   "name": "python",
   "nbconvert_exporter": "python",
   "pygments_lexer": "ipython3",
   "version": "3.8.10"
  }
 },
 "nbformat": 4,
 "nbformat_minor": 5
}

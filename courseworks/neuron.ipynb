{
 "cells": [
  {
   "cell_type": "markdown",
   "id": "9b1c40e6",
   "metadata": {},
   "source": [
    "### Output of neuron is defined by this function:\n",
    "\n",
    "y = H(wx - theta)\n",
    "\n",
    "--> where transfer function is the weighted sum of its inputs \n",
    "\n",
    "\n",
    "--> where activation function is the heaviside function"
   ]
  },
  {
   "cell_type": "code",
   "execution_count": 5,
   "id": "2793f874",
   "metadata": {},
   "outputs": [],
   "source": [
    "def heaveside_function(a):\n",
    "    if a >0:\n",
    "        return 1\n",
    "    elif a < 0:\n",
    "        return 0\n",
    "    elif a == 0:\n",
    "        print(\"H(0)\")\n",
    "        return 0.5"
   ]
  },
  {
   "cell_type": "code",
   "execution_count": 6,
   "id": "90d8c8e2",
   "metadata": {},
   "outputs": [],
   "source": [
    "def neuron_output(w,x,theta):\n",
    "    y = heaveside_function(np.dot(w,x) - theta)\n",
    "    return y"
   ]
  },
  {
   "cell_type": "code",
   "execution_count": 9,
   "id": "78ccfe58",
   "metadata": {
    "scrolled": true
   },
   "outputs": [
    {
     "data": {
      "text/plain": [
       "0"
      ]
     },
     "execution_count": 9,
     "metadata": {},
     "output_type": "execute_result"
    }
   ],
   "source": [
    "import numpy as np\n",
    "w = np.array([0.1, -0.5, 0.4])\n",
    "x = np.array([0.1,0.5, 0.4])\n",
    "x = x.transpose()\n",
    "\n",
    "# given threshold zero \n",
    "theta = 0\n",
    "neuron_output(w,x,theta)"
   ]
  }
 ],
 "metadata": {
  "kernelspec": {
   "display_name": "Python 3 (ipykernel)",
   "language": "python",
   "name": "python3"
  },
  "language_info": {
   "codemirror_mode": {
    "name": "ipython",
    "version": 3
   },
   "file_extension": ".py",
   "mimetype": "text/x-python",
   "name": "python",
   "nbconvert_exporter": "python",
   "pygments_lexer": "ipython3",
   "version": "3.8.10"
  }
 },
 "nbformat": 4,
 "nbformat_minor": 5
}

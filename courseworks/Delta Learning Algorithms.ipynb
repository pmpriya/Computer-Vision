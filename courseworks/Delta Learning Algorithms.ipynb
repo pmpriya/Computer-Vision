{
 "cells": [
  {
   "cell_type": "markdown",
   "id": "f7d86e4a",
   "metadata": {},
   "source": [
    "## SEQUENCE DELTA LEARNING ALGORITHM \n",
    "\n",
    "## BATCH DELTA LEARNING ALGORITHM"
   ]
  },
  {
   "cell_type": "markdown",
   "id": "6b85d868",
   "metadata": {},
   "source": [
    "## 1. Sequential Delta Learning Algorithm\n",
    "\n",
    "### Parameters:\n",
    "##### DO NOT TRANSPOSE xt #####\n",
    "\n",
    "1. as numpy array - xt = [(1, feature_vectors)] (without sample normalization)\n",
    "2. w = -theta, weights \n",
    "3. t = true class labels \n",
    "4. n = learning rate \n",
    "5. iterations = epochs * len(xt)"
   ]
  },
  {
   "cell_type": "code",
   "execution_count": 20,
   "id": "8ff2ed54",
   "metadata": {},
   "outputs": [],
   "source": [
    "def heaveside_function(a):\n",
    "    if a >0:\n",
    "        return 1\n",
    "    elif a < 0:\n",
    "        return 0\n",
    "    elif a == 0:\n",
    "        print(\"H(0)\")\n",
    "        return 1"
   ]
  },
  {
   "cell_type": "code",
   "execution_count": 21,
   "id": "b2613794",
   "metadata": {},
   "outputs": [],
   "source": [
    "from prettytable import PrettyTable\n",
    "import numpy as np\n",
    "\n",
    "def sequential_delta_learning(xt,w, t, n, iterations):\n",
    "    result = []\n",
    "    for o in range(int(iterations/ len(xt))):\n",
    "        for i in range(len(xt)):\n",
    "            w_prev = w\n",
    "            xi = xt[i]\n",
    "\n",
    "            # calculate y\n",
    "            y = heaveside_function(np.dot(w,xi))\n",
    "\n",
    "            # calculate update part \n",
    "            update = np.zeros(len(xi))\n",
    "            for j in range(len(xi)):\n",
    "                update[j] = n* (t[i] - y) * xi[j]\n",
    "                #print(xi[j])\n",
    "\n",
    "            # add update part to a \n",
    "            w = np.add(w, update)\n",
    "\n",
    "            # append result \n",
    "            result.append((str(i+1+(len(xt) * o)), np.round(w_prev,4), np.round(xi,4), np.round(y,4), np.round(w,4)))\n",
    "            \n",
    "    # pretty table\n",
    "\n",
    "    pt = PrettyTable(('iteration', 'w', 'xi', 'y', 'w_new'))\n",
    "    for row in result: pt.add_row(row)\n",
    "\n",
    "    pt.align['iteration'] = 'c'\n",
    "    pt.align['w'] = 'l'\n",
    "    pt.align['xi'] = 'l'\n",
    "    pt.align['y'] = 'l'\n",
    "    pt.align['w_new'] = 'l'\n",
    "\n",
    "    print(pt)\n",
    "    "
   ]
  },
  {
   "cell_type": "code",
   "execution_count": 48,
   "id": "84ff7abd",
   "metadata": {
    "scrolled": true
   },
   "outputs": [
    {
     "name": "stdout",
     "output_type": "stream",
     "text": [
      "+-----------+---------------+------------+---+---------------+\n",
      "| iteration | w             | xi         | y | w_new         |\n",
      "+-----------+---------------+------------+---+---------------+\n",
      "|     1     | [1 0 0]       | [1 0 2]    | 1 | [1. 0. 0.]    |\n",
      "|     2     | [1. 0. 0.]    | [1 1 2]    | 1 | [1. 0. 0.]    |\n",
      "|     3     | [1. 0. 0.]    | [1 2 1]    | 1 | [1. 0. 0.]    |\n",
      "|     4     | [1. 0. 0.]    | [ 1 -3  1] | 1 | [ 0.  3. -1.] |\n",
      "|     5     | [ 0.  3. -1.] | [ 1 -2 -1] | 0 | [ 0.  3. -1.] |\n",
      "|     6     | [ 0.  3. -1.] | [ 1 -3 -2] | 0 | [ 0.  3. -1.] |\n",
      "|     7     | [ 0.  3. -1.] | [1 0 2]    | 0 | [1. 3. 1.]    |\n",
      "|     8     | [1. 3. 1.]    | [1 1 2]    | 1 | [1. 3. 1.]    |\n",
      "|     9     | [1. 3. 1.]    | [1 2 1]    | 1 | [1. 3. 1.]    |\n",
      "|     10    | [1. 3. 1.]    | [ 1 -3  1] | 0 | [1. 3. 1.]    |\n",
      "|     11    | [1. 3. 1.]    | [ 1 -2 -1] | 0 | [1. 3. 1.]    |\n",
      "|     12    | [1. 3. 1.]    | [ 1 -3 -2] | 0 | [1. 3. 1.]    |\n",
      "+-----------+---------------+------------+---+---------------+\n"
     ]
    }
   ],
   "source": [
    "xt = np.array([[1,0,2], [1,1,2], [1,2,1], [1,-3,1], [1,-2,-1], [1,-3,-2]])\n",
    "w = [1,0,0]\n",
    "n = 1\n",
    "t = [1,1,1,0,0,0]\n",
    "iterations = 12\n",
    "\n",
    "sequential_delta_learning(xt,w, t, n, iterations)"
   ]
  },
  {
   "cell_type": "markdown",
   "id": "5eb0e794",
   "metadata": {},
   "source": [
    "## Batch Delta Learning Algorithm\n",
    "\n",
    "### Parameters:\n",
    "##### DO NOT TRANSPOSE xt #####\n",
    "\n",
    "1. as numpy array - xt = [(1, feature_vectors)] (without sample normalization)\n",
    "2. as numpy array - w = -theta, weights \n",
    "3. t = true class labels \n",
    "4. n = learning rate \n",
    "5. iterations = epochs * len(xt)"
   ]
  },
  {
   "cell_type": "code",
   "execution_count": 44,
   "id": "a85510b4",
   "metadata": {},
   "outputs": [],
   "source": [
    "import numpy as np\n",
    "def batch_delta_learning(xt,w, t, n, iterations):\n",
    "    result = []\n",
    "    for o in range(int(iterations/ len(xt))):\n",
    "        i = 0\n",
    "        w_prev = w\n",
    "        delta = np.zeros(w.shape)\n",
    "        \n",
    "        for xti, ti in zip(xt,t):\n",
    "            y = heaveside_function(np.matmul(w,xti))\n",
    "            delta = delta + (ti - y) * xti.transpose()\n",
    "            result.append((str(i+1+(len(xt) * o)), np.round(xti,4), ti, np.round(y,4)))\n",
    "            i = i + 1\n",
    "            \n",
    "        w = w + delta\n",
    "        \n",
    "        # append result \n",
    "        print(\" > epoch: %s, new weight: %s\" % (str(o+1), str(np.round(w,4))))\n",
    "        \n",
    "   # pretty table\n",
    "\n",
    "    pt = PrettyTable(('iteration', 'xt', 't', 'y'))\n",
    "    for row in result: pt.add_row(row)\n",
    "\n",
    "    pt.align['iteration'] = 'c'\n",
    "    pt.align['xt'] = 'l'\n",
    "    pt.align['t'] = 'l'\n",
    "    pt.align['y'] = 'l'\n",
    "\n",
    "    print(pt) "
   ]
  },
  {
   "cell_type": "code",
   "execution_count": 45,
   "id": "e14061e2",
   "metadata": {
    "scrolled": true
   },
   "outputs": [
    {
     "name": "stdout",
     "output_type": "stream",
     "text": [
      " > epoch: 1, new weight: [-1.5  1. ]\n",
      " > epoch: 2, new weight: [-0.5  1. ]\n",
      " > epoch: 3, new weight: [-0.5  0. ]\n",
      " > epoch: 4, new weight: [0.5 0. ]\n",
      " > epoch: 5, new weight: [-0.5 -1. ]\n",
      " > epoch: 6, new weight: [ 0.5 -1. ]\n",
      " > epoch: 7, new weight: [ 0.5 -1. ]\n",
      "+-----------+-------+---+---+\n",
      "| iteration | xt    | t | y |\n",
      "+-----------+-------+---+---+\n",
      "|     1     | [1 0] | 1 | 0 |\n",
      "|     2     | [1 1] | 0 | 1 |\n",
      "|     3     | [1 0] | 1 | 0 |\n",
      "|     4     | [1 1] | 0 | 0 |\n",
      "|     5     | [1 0] | 1 | 0 |\n",
      "|     6     | [1 1] | 0 | 1 |\n",
      "|     7     | [1 0] | 1 | 0 |\n",
      "|     8     | [1 1] | 0 | 0 |\n",
      "|     9     | [1 0] | 1 | 1 |\n",
      "|     10    | [1 1] | 0 | 1 |\n",
      "|     11    | [1 0] | 1 | 0 |\n",
      "|     12    | [1 1] | 0 | 0 |\n",
      "|     13    | [1 0] | 1 | 1 |\n",
      "|     14    | [1 1] | 0 | 0 |\n",
      "+-----------+-------+---+---+\n"
     ]
    }
   ],
   "source": [
    "xt = np.array([[1,0], [1,1]])\n",
    "w = np.array([-1.5,2])\n",
    "n = 1\n",
    "t = [1,0]\n",
    "iterations = 14\n",
    "\n",
    "batch_delta_learning(xt,w, t, n, iterations)"
   ]
  },
  {
   "cell_type": "code",
   "execution_count": 46,
   "id": "37dea540",
   "metadata": {},
   "outputs": [],
   "source": [
    "# End of algorithms "
   ]
  }
 ],
 "metadata": {
  "kernelspec": {
   "display_name": "Python 3 (ipykernel)",
   "language": "python",
   "name": "python3"
  },
  "language_info": {
   "codemirror_mode": {
    "name": "ipython",
    "version": 3
   },
   "file_extension": ".py",
   "mimetype": "text/x-python",
   "name": "python",
   "nbconvert_exporter": "python",
   "pygments_lexer": "ipython3",
   "version": "3.8.10"
  }
 },
 "nbformat": 4,
 "nbformat_minor": 5
}

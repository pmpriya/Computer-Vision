{
 "cells": [
  {
   "cell_type": "markdown",
   "id": "35901f48",
   "metadata": {},
   "source": [
    "### Batch Perceptron Learning Algorithm \n",
    "\n",
    "##### note -  requires normalisation and augmented notation "
   ]
  },
  {
   "cell_type": "code",
   "execution_count": 6,
   "id": "7ed8cf63",
   "metadata": {},
   "outputs": [],
   "source": [
    "import numpy as np \n",
    "\n",
    "# initialize values for weights, samples, n, epochs \n",
    "\n",
    "def batch_perceptron_learning(w,x,n,epochs):\n",
    "    w = np.array(w)\n",
    "    x = [np.array(xi) for xi in x]\n",
    "    \n",
    "    for epoch in range(1, epochs+1):\n",
    "        print(\"Epoch %i \" % epoch)\n",
    "        sigma_y = np.zeros(w.shape)\n",
    "        for xi in x:\n",
    "            pred = float(np.matmul(w.transpose(), xi))\n",
    "            print(\" > x: %s, prediction: %.1f\" %(str(xi.transpose()), pred))\n",
    "            if pred <= 0:\n",
    "                sigma_y += xi\n",
    "        w = w + n*sigma_y\n",
    "        print(\"> Sigma y: %s, updated weights: %s\\n\" % (str(sigma_y.transpose()),str(w.transpose())))\n",
    "    return w"
   ]
  },
  {
   "cell_type": "code",
   "execution_count": 7,
   "id": "2291553a",
   "metadata": {},
   "outputs": [
    {
     "name": "stdout",
     "output_type": "stream",
     "text": [
      "Epoch 1 \n",
      " > x: [1 1 5], prediction: -4.0\n",
      " > x: [1 2 5], prediction: 2.0\n",
      " > x: [-1 -4 -1], prediction: -2.0\n",
      " > x: [-1 -5 -1], prediction: -8.0\n",
      "> Sigma y: [-1. -8.  3.], updated weights: [-26.  -2.   6.]\n",
      "\n",
      "Epoch 2 \n",
      " > x: [1 1 5], prediction: 2.0\n",
      " > x: [1 2 5], prediction: 0.0\n",
      " > x: [-1 -4 -1], prediction: 28.0\n",
      " > x: [-1 -5 -1], prediction: 30.0\n",
      "> Sigma y: [1. 2. 5.], updated weights: [-25.   0.  11.]\n",
      "\n",
      "Epoch 3 \n",
      " > x: [1 1 5], prediction: 30.0\n",
      " > x: [1 2 5], prediction: 30.0\n",
      " > x: [-1 -4 -1], prediction: 14.0\n",
      " > x: [-1 -5 -1], prediction: 14.0\n",
      "> Sigma y: [0. 0. 0.], updated weights: [-25.   0.  11.]\n",
      "\n",
      "Epoch 4 \n",
      " > x: [1 1 5], prediction: 30.0\n",
      " > x: [1 2 5], prediction: 30.0\n",
      " > x: [-1 -4 -1], prediction: 14.0\n",
      " > x: [-1 -5 -1], prediction: 14.0\n",
      "> Sigma y: [0. 0. 0.], updated weights: [-25.   0.  11.]\n",
      "\n"
     ]
    },
    {
     "data": {
      "text/plain": [
       "array([-25.,   0.,  11.])"
      ]
     },
     "execution_count": 7,
     "metadata": {},
     "output_type": "execute_result"
    }
   ],
   "source": [
    "w = [-25, 6, 3];\n",
    "n = 1;\n",
    "# augmented notation and sample normalization\n",
    "x = [[1,1,5], [1,2,5], [-1,-4,-1], [-1,-5,-1]];\n",
    "epochs = 4\n",
    "\n",
    "batch_perceptron_learning(w,x,n,epochs)"
   ]
  },
  {
   "cell_type": "code",
   "execution_count": 8,
   "id": "23760561",
   "metadata": {},
   "outputs": [],
   "source": [
    "# End of Algorithm"
   ]
  }
 ],
 "metadata": {
  "kernelspec": {
   "display_name": "Python 3 (ipykernel)",
   "language": "python",
   "name": "python3"
  },
  "language_info": {
   "codemirror_mode": {
    "name": "ipython",
    "version": 3
   },
   "file_extension": ".py",
   "mimetype": "text/x-python",
   "name": "python",
   "nbconvert_exporter": "python",
   "pygments_lexer": "ipython3",
   "version": "3.8.10"
  }
 },
 "nbformat": 4,
 "nbformat_minor": 5
}

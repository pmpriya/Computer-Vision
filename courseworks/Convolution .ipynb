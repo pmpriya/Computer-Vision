{
 "cells": [
  {
   "cell_type": "markdown",
   "id": "5770f477",
   "metadata": {},
   "source": [
    "#### Implementation of Convolution Functions\n",
    "\n",
    "## Padding,  Dilate, After Stride, Convolve, Pooling "
   ]
  },
  {
   "cell_type": "markdown",
   "id": "d54516f6",
   "metadata": {},
   "source": [
    "# 1.  PADDING"
   ]
  },
  {
   "cell_type": "code",
   "execution_count": 1,
   "id": "44024c42",
   "metadata": {},
   "outputs": [],
   "source": [
    "import numpy as np\n",
    "def pad(arr,padding):\n",
    "    y_dim, x_dim = arr.shape\n",
    "    out = np.zeros((y_dim+2*padding, x_dim+2*padding))\n",
    "    out[padding:y_dim+padding, padding:x_dim+padding] = arr\n",
    "    return out"
   ]
  },
  {
   "cell_type": "markdown",
   "id": "27c2883d",
   "metadata": {},
   "source": [
    "# 2.  DILATE"
   ]
  },
  {
   "cell_type": "code",
   "execution_count": 2,
   "id": "188919ff",
   "metadata": {},
   "outputs": [],
   "source": [
    "import numpy as np\n",
    "def dilate(arr, dilation):\n",
    "    y_dim, x_dim(arr.shape)\n",
    "    out = np.zeros((dilation * (y_dim - 1) + 1, dilation * (x_dim - 1) + 1))\n",
    "    for ix, iy in np.ndindex(arr.shape):\n",
    "        out[dilation*ix, dilation*iy] = arr[ix, iy]\n",
    "    return out"
   ]
  },
  {
   "cell_type": "markdown",
   "id": "f11d9f9b",
   "metadata": {},
   "source": [
    "# 3. AFTER STRIDE"
   ]
  },
  {
   "cell_type": "code",
   "execution_count": 3,
   "id": "f50f0815",
   "metadata": {},
   "outputs": [],
   "source": [
    "import numpy as np\n",
    "from math import ceil\n",
    "def after_stride(arr, stride):\n",
    "    y_dim, x_dim = arr.shape\n",
    "    new_y_dim = ceil(y_dim/stride)\n",
    "    new_x_dim = ceil(x_dim/stride)\n",
    "    out = np.zeros((new_y_dim, new_x_dim))\n",
    "    for y in range(new_y_dim):\n",
    "        for x in range(new_x_dim):\n",
    "            out[y,x] = arr[stride*y, stride*x]\n",
    "    return out "
   ]
  },
  {
   "cell_type": "markdown",
   "id": "df09ad59",
   "metadata": {},
   "source": [
    "# 4.  CONVOLVE"
   ]
  },
  {
   "cell_type": "code",
   "execution_count": 4,
   "id": "575e4156",
   "metadata": {},
   "outputs": [],
   "source": [
    "from scipy.signal import correlate2d\n",
    "import numpy as np\n",
    "def convolve(arr, kernel, *, padding=0, stride=1, dilation=1):\n",
    "    arr = pad(np.array(arr), padding)\n",
    "    kernel = dilate(kernel, dilation)\n",
    "    return after_stride(correlate2d(arr, kernel, 'valid'), stride)"
   ]
  },
  {
   "cell_type": "markdown",
   "id": "a6741e35",
   "metadata": {},
   "source": [
    "# 5.  POOLING"
   ]
  },
  {
   "cell_type": "code",
   "execution_count": 5,
   "id": "cb5117bf",
   "metadata": {},
   "outputs": [],
   "source": [
    "import numpy as np\n",
    "def pooling(arr, pooling_region, stride=1, pooling_type=max):\n",
    "    out = np.zeros((\n",
    "    arr.shape[0] - pooling_region[0] +1,\n",
    "    arr.shape[1] - pooling_region[1] +1\n",
    "    ))\n",
    "    \n",
    "    for ix, iy in np.ndindex(out.shape):\n",
    "        neighbours = []\n",
    "        for y_offset in range(pooling_region[0]):\n",
    "            for x_offset in range(pooling_region[1]):\n",
    "                neighbours.append(arr[iy+y_offset, ix+x_offset])\n",
    "        out[iy, ix] = pooling_type(neighbours)\n",
    "    return after_stride(out, stride)"
   ]
  }
 ],
 "metadata": {
  "kernelspec": {
   "display_name": "Python 3 (ipykernel)",
   "language": "python",
   "name": "python3"
  },
  "language_info": {
   "codemirror_mode": {
    "name": "ipython",
    "version": 3
   },
   "file_extension": ".py",
   "mimetype": "text/x-python",
   "name": "python",
   "nbconvert_exporter": "python",
   "pygments_lexer": "ipython3",
   "version": "3.8.10"
  }
 },
 "nbformat": 4,
 "nbformat_minor": 5
}

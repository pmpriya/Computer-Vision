{
 "cells": [
  {
   "cell_type": "markdown",
   "id": "4464e047",
   "metadata": {},
   "source": [
    "### BATCH NORMALISATION"
   ]
  },
  {
   "cell_type": "code",
   "execution_count": 50,
   "id": "876040e7",
   "metadata": {},
   "outputs": [],
   "source": [
    "import numpy as np\n",
    "\n",
    "def batch_normalisation(x, beta, gamma, epsilon):\n",
    "    result = []\n",
    "    store = []\n",
    "    for xi in x:\n",
    "        var = np.var(xi)\n",
    "        \n",
    "        avg = np.mean(xi)\n",
    "        \n",
    "        for xii in xi:\n",
    "            norm = beta + gamma * ((xii-avg) / (np.sqrt(var+ epsilon)))\n",
    "            store.append(norm)\n",
    "        result.append(store)\n",
    "    return result"
   ]
  },
  {
   "cell_type": "code",
   "execution_count": null,
   "id": "3db0ffa2",
   "metadata": {},
   "outputs": [],
   "source": [
    "x = [[1,1,0.5,0.2], [0.5,-1,-0.5,1], []"
   ]
  }
 ],
 "metadata": {
  "kernelspec": {
   "display_name": "Python 3 (ipykernel)",
   "language": "python",
   "name": "python3"
  },
  "language_info": {
   "codemirror_mode": {
    "name": "ipython",
    "version": 3
   },
   "file_extension": ".py",
   "mimetype": "text/x-python",
   "name": "python",
   "nbconvert_exporter": "python",
   "pygments_lexer": "ipython3",
   "version": "3.8.10"
  }
 },
 "nbformat": 4,
 "nbformat_minor": 5
}

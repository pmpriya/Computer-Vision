{
 "cells": [
  {
   "cell_type": "markdown",
   "id": "c7e84f37",
   "metadata": {},
   "source": [
    "Sign Language Detection Model developed using CNN <br>\n",
    "<br>\n",
    "This project makes use of the MNIST dataset, where the dataset will contain images of the sign language alphabets and numbers. Each image has size 28x28 pixels => total 784 pixels per image. <br>\n",
    "<br>\n",
    "![](sign_language.png)"
   ]
  },
  {
   "cell_type": "markdown",
   "id": "97276344",
   "metadata": {},
   "source": [
    "#### Data Pre-Processing\n",
    "\n",
    "Loading the MNIST dataset <br>\n",
    "X_train and X_test contains the values of each pixel. <br>\n",
    "Y_train and Y_test contains the label of each image. <br>\n",
    "\n",
    "The image size is 28x28 hence we have to divide the array into 28x28 pixel groups. This is done by reshaping the numpy nd-arrays. "
   ]
  },
  {
   "cell_type": "code",
   "execution_count": 3,
   "id": "3659198a",
   "metadata": {},
   "outputs": [],
   "source": [
    "import pandas as pd \n",
    "import numpy as np \n",
    "\n",
    "train = pd.read_csv('dataset/sign_mnist_train.csv')\n",
    "test = pd.read_csv('dataset/sign_mnist_test.csv')\n",
    "\n",
    "Y_train = train['label'].values\n",
    "Y_test = test['label'].values\n",
    "\n",
    "X_train = train.drop(['label'],axis = 1)\n",
    "X_test = test.drop(['label'],axis = 1)\n",
    "\n",
    "X_train = np.array(X_train.iloc[:,:])\n",
    "X_train = np.array([np.reshape(i, (28,28)) for i in X_train])\n",
    "\n",
    "X_test = np.array(X_test.iloc[:,:])\n",
    "X_test = np.array([np.reshape(i, (28,28)) for i in X_test])\n",
    "\n",
    "num_classes = 26\n",
    "Y_train = np.array(Y_train).reshape(-1)\n",
    "Y_test = np.array(Y_test).reshape(-1)\n",
    "\n",
    "Y_train = np.eye(num_classes)[Y_train]\n",
    "Y_test = np.eye(num_classes)[Y_test]\n",
    "\n",
    "X_train = X_train.reshape((27455, 28, 28, 1))\n",
    "X_test = X_test.reshape((7172, 28, 28, 1))"
   ]
  },
  {
   "cell_type": "markdown",
   "id": "c7e19ab9",
   "metadata": {},
   "source": [
    "#### CNN Model\n",
    "<br>\n",
    "Resource: https://towardsdatascience.com/coding-a-convolutional-neural-network-cnn-using-keras-sequential-api-ec5211126875 <br>\n",
    "<br>\n",
    "Building a CNN using Keras Sequential API and using Conv2D(), MaxPooling2D()and Dense() classes to build convolutional, pooling and dense layers.<br>\n",
    "\n",
    "A CNN can be instantiated as a Sequential model (rather than a Functional model) because each layer has exactly one input and output tensor and is stacked together to form the entire network.<br>\n",
    "\n",
    "<b>Training Model for 50 Epochs</b>"
   ]
  },
  {
   "cell_type": "code",
   "execution_count": 4,
   "id": "acd2e61c",
   "metadata": {},
   "outputs": [
    {
     "name": "stderr",
     "output_type": "stream",
     "text": [
      "2022-12-05 13:37:39.101348: I tensorflow/core/platform/cpu_feature_guard.cc:193] This TensorFlow binary is optimized with oneAPI Deep Neural Network Library (oneDNN) to use the following CPU instructions in performance-critical operations:  AVX2 FMA\n",
      "To enable them in other operations, rebuild TensorFlow with the appropriate compiler flags.\n"
     ]
    }
   ],
   "source": [
    "from tensorflow.keras.models import Sequential\n",
    "from tensorflow.keras.layers import Conv2D, MaxPooling2D, Dense, Flatten, Dropout\n",
    "\n",
    "\n",
    "classifier = Sequential()\n",
    "classifier.add(Conv2D(filters=8, kernel_size=(3,3),strides=(1,1),padding='same',input_shape=(28,28,1),activation='relu', data_format='channels_last'))\n",
    "classifier.add(MaxPooling2D(pool_size=(2,2)))\n",
    "classifier.add(Conv2D(filters=16, kernel_size=(3,3),strides=(1,1),padding='same',activation='relu'))\n",
    "classifier.add(Dropout(0.5))\n",
    "classifier.add(MaxPooling2D(pool_size=(4,4)))\n",
    "classifier.add(Dense(128, activation='relu'))\n",
    "classifier.add(Flatten())\n",
    "classifier.add(Dense(26, activation='softmax'))\n",
    "classifier.compile(optimizer='SGD', loss='categorical_crossentropy', metrics=['accuracy'])\n"
   ]
  },
  {
   "cell_type": "code",
   "execution_count": 5,
   "id": "adb906a9",
   "metadata": {},
   "outputs": [
    {
     "name": "stdout",
     "output_type": "stream",
     "text": [
      "Epoch 1/50\n",
      "275/275 [==============================] - 23s 78ms/step - loss: 2.5004 - accuracy: 0.4582\n",
      "Epoch 2/50\n",
      "275/275 [==============================] - 26s 96ms/step - loss: 0.6240 - accuracy: 0.7870\n",
      "Epoch 3/50\n",
      "275/275 [==============================] - 20s 71ms/step - loss: 0.4025 - accuracy: 0.8593\n",
      "Epoch 4/50\n",
      "275/275 [==============================] - 17s 63ms/step - loss: 0.2921 - accuracy: 0.8958\n",
      "Epoch 5/50\n",
      "275/275 [==============================] - 17s 62ms/step - loss: 0.2357 - accuracy: 0.9192\n",
      "Epoch 6/50\n",
      "275/275 [==============================] - 20s 73ms/step - loss: 0.1921 - accuracy: 0.9326\n",
      "Epoch 7/50\n",
      "275/275 [==============================] - 21s 75ms/step - loss: 0.1722 - accuracy: 0.9401\n",
      "Epoch 8/50\n",
      "275/275 [==============================] - 20s 74ms/step - loss: 0.1612 - accuracy: 0.9438\n",
      "Epoch 9/50\n",
      "275/275 [==============================] - 18s 66ms/step - loss: 0.1458 - accuracy: 0.9493\n",
      "Epoch 10/50\n",
      "275/275 [==============================] - 16s 56ms/step - loss: 0.1251 - accuracy: 0.9571\n",
      "Epoch 11/50\n",
      "275/275 [==============================] - 17s 62ms/step - loss: 0.1117 - accuracy: 0.9618\n",
      "Epoch 12/50\n",
      "275/275 [==============================] - 18s 64ms/step - loss: 0.1132 - accuracy: 0.9616\n",
      "Epoch 13/50\n",
      "275/275 [==============================] - 18s 65ms/step - loss: 0.1046 - accuracy: 0.9642\n",
      "Epoch 14/50\n",
      "275/275 [==============================] - 15s 55ms/step - loss: 0.0985 - accuracy: 0.9664\n",
      "Epoch 15/50\n",
      "275/275 [==============================] - 18s 64ms/step - loss: 0.0760 - accuracy: 0.9748\n",
      "Epoch 16/50\n",
      "275/275 [==============================] - 14s 52ms/step - loss: 0.0893 - accuracy: 0.9695\n",
      "Epoch 17/50\n",
      "275/275 [==============================] - 13s 46ms/step - loss: 0.0807 - accuracy: 0.9731\n",
      "Epoch 18/50\n",
      "275/275 [==============================] - 13s 48ms/step - loss: 0.0824 - accuracy: 0.9724\n",
      "Epoch 19/50\n",
      "275/275 [==============================] - 19s 68ms/step - loss: 0.0782 - accuracy: 0.9732\n",
      "Epoch 20/50\n",
      "275/275 [==============================] - 18s 67ms/step - loss: 0.0669 - accuracy: 0.9774\n",
      "Epoch 21/50\n",
      "275/275 [==============================] - 18s 67ms/step - loss: 0.0782 - accuracy: 0.9749\n",
      "Epoch 22/50\n",
      "275/275 [==============================] - 15s 56ms/step - loss: 0.0737 - accuracy: 0.9757\n",
      "Epoch 23/50\n",
      "275/275 [==============================] - 16s 58ms/step - loss: 0.0622 - accuracy: 0.9802\n",
      "Epoch 24/50\n",
      "275/275 [==============================] - 14s 51ms/step - loss: 0.0699 - accuracy: 0.9777\n",
      "Epoch 25/50\n",
      "275/275 [==============================] - 15s 55ms/step - loss: 0.0615 - accuracy: 0.9797\n",
      "Epoch 26/50\n",
      "275/275 [==============================] - 13s 46ms/step - loss: 0.0622 - accuracy: 0.9795\n",
      "Epoch 27/50\n",
      "275/275 [==============================] - 14s 52ms/step - loss: 0.0661 - accuracy: 0.9779\n",
      "Epoch 28/50\n",
      "275/275 [==============================] - 17s 61ms/step - loss: 0.0512 - accuracy: 0.9827\n",
      "Epoch 29/50\n",
      "275/275 [==============================] - 17s 61ms/step - loss: 0.0547 - accuracy: 0.9824\n",
      "Epoch 30/50\n",
      "275/275 [==============================] - 16s 57ms/step - loss: 0.0502 - accuracy: 0.9839\n",
      "Epoch 31/50\n",
      "275/275 [==============================] - 16s 60ms/step - loss: 0.0547 - accuracy: 0.9813\n",
      "Epoch 32/50\n",
      "275/275 [==============================] - 13s 47ms/step - loss: 0.0435 - accuracy: 0.9854\n",
      "Epoch 33/50\n",
      "275/275 [==============================] - 12s 45ms/step - loss: 0.0444 - accuracy: 0.9863\n",
      "Epoch 34/50\n",
      "275/275 [==============================] - 18s 64ms/step - loss: 0.0414 - accuracy: 0.9860\n",
      "Epoch 35/50\n",
      "275/275 [==============================] - 16s 59ms/step - loss: 0.0520 - accuracy: 0.9828\n",
      "Epoch 36/50\n",
      "275/275 [==============================] - 17s 60ms/step - loss: 0.0516 - accuracy: 0.9828\n",
      "Epoch 37/50\n",
      "275/275 [==============================] - 16s 59ms/step - loss: 0.0545 - accuracy: 0.9823\n",
      "Epoch 38/50\n",
      "275/275 [==============================] - 15s 54ms/step - loss: 0.0426 - accuracy: 0.9868\n",
      "Epoch 39/50\n",
      "275/275 [==============================] - 22s 80ms/step - loss: 0.0446 - accuracy: 0.9866\n",
      "Epoch 40/50\n",
      "275/275 [==============================] - 29s 104ms/step - loss: 0.0442 - accuracy: 0.9856\n",
      "Epoch 41/50\n",
      "275/275 [==============================] - 34s 123ms/step - loss: 0.0606 - accuracy: 0.9816\n",
      "Epoch 42/50\n",
      "275/275 [==============================] - 24s 88ms/step - loss: 0.0388 - accuracy: 0.9881\n",
      "Epoch 43/50\n",
      "275/275 [==============================] - 25s 92ms/step - loss: 0.0317 - accuracy: 0.9882\n",
      "Epoch 44/50\n",
      "275/275 [==============================] - 22s 79ms/step - loss: 0.0511 - accuracy: 0.9843\n",
      "Epoch 45/50\n",
      "275/275 [==============================] - 21s 77ms/step - loss: 0.0386 - accuracy: 0.9877\n",
      "Epoch 46/50\n",
      "275/275 [==============================] - 18s 66ms/step - loss: 0.0494 - accuracy: 0.9844\n",
      "Epoch 47/50\n",
      "275/275 [==============================] - 17s 64ms/step - loss: 0.0376 - accuracy: 0.9882\n",
      "Epoch 48/50\n",
      "275/275 [==============================] - 21s 75ms/step - loss: 0.0436 - accuracy: 0.9865\n",
      "Epoch 49/50\n",
      "275/275 [==============================] - 22s 80ms/step - loss: 0.0349 - accuracy: 0.9891\n",
      "Epoch 50/50\n",
      "275/275 [==============================] - 22s 80ms/step - loss: 0.0486 - accuracy: 0.9851\n"
     ]
    },
    {
     "data": {
      "text/plain": [
       "<keras.callbacks.History at 0x7fe915679b80>"
      ]
     },
     "execution_count": 5,
     "metadata": {},
     "output_type": "execute_result"
    }
   ],
   "source": [
    "classifier.compile(loss='categorical_crossentropy', optimizer='adam', metrics=['accuracy'])\n",
    "classifier.fit(X_train, Y_train, epochs=50, batch_size=100)"
   ]
  },
  {
   "cell_type": "markdown",
   "id": "00834827",
   "metadata": {},
   "source": [
    "#### Model Accuracy "
   ]
  },
  {
   "cell_type": "code",
   "execution_count": 6,
   "id": "47f979c8",
   "metadata": {},
   "outputs": [
    {
     "name": "stdout",
     "output_type": "stream",
     "text": [
      "225/225 [==============================] - 2s 7ms/step - loss: 0.2179 - accuracy: 0.9467\n",
      "Accuracy:  0.9467372894287109\n"
     ]
    }
   ],
   "source": [
    "accuracy = classifier.evaluate(x = X_test, y = Y_test, batch_size=32)\n",
    "print(\"Accuracy: \", accuracy[1])"
   ]
  },
  {
   "cell_type": "code",
   "execution_count": 7,
   "id": "0fba4e08",
   "metadata": {
    "scrolled": true
   },
   "outputs": [
    {
     "name": "stdout",
     "output_type": "stream",
     "text": [
      "Model: \"sequential\"\n",
      "_________________________________________________________________\n",
      " Layer (type)                Output Shape              Param #   \n",
      "=================================================================\n",
      " conv2d (Conv2D)             (None, 28, 28, 8)         80        \n",
      "                                                                 \n",
      " max_pooling2d (MaxPooling2D  (None, 14, 14, 8)        0         \n",
      " )                                                               \n",
      "                                                                 \n",
      " conv2d_1 (Conv2D)           (None, 14, 14, 16)        1168      \n",
      "                                                                 \n",
      " dropout (Dropout)           (None, 14, 14, 16)        0         \n",
      "                                                                 \n",
      " max_pooling2d_1 (MaxPooling  (None, 3, 3, 16)         0         \n",
      " 2D)                                                             \n",
      "                                                                 \n",
      " dense (Dense)               (None, 3, 3, 128)         2176      \n",
      "                                                                 \n",
      " flatten (Flatten)           (None, 1152)              0         \n",
      "                                                                 \n",
      " dense_1 (Dense)             (None, 26)                29978     \n",
      "                                                                 \n",
      "=================================================================\n",
      "Total params: 33,402\n",
      "Trainable params: 33,402\n",
      "Non-trainable params: 0\n",
      "_________________________________________________________________\n"
     ]
    }
   ],
   "source": [
    "classifier.summary()"
   ]
  },
  {
   "cell_type": "markdown",
   "id": "997952d6",
   "metadata": {},
   "source": [
    "#### Saving Model"
   ]
  },
  {
   "cell_type": "code",
   "execution_count": 9,
   "id": "b6ea4531",
   "metadata": {},
   "outputs": [],
   "source": [
    "classifier.save('model.h5')"
   ]
  }
 ],
 "metadata": {
  "kernelspec": {
   "display_name": "Python 3 (ipykernel)",
   "language": "python",
   "name": "python3"
  },
  "language_info": {
   "codemirror_mode": {
    "name": "ipython",
    "version": 3
   },
   "file_extension": ".py",
   "mimetype": "text/x-python",
   "name": "python",
   "nbconvert_exporter": "python",
   "pygments_lexer": "ipython3",
   "version": "3.9.12"
  }
 },
 "nbformat": 4,
 "nbformat_minor": 5
}

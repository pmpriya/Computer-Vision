{
 "cells": [
  {
   "cell_type": "code",
   "execution_count": 1,
   "id": "2513a4cc",
   "metadata": {},
   "outputs": [],
   "source": [
    "import numpy as np\n",
    "weights = [1,1,2,2,3]\n",
    "\n",
    "# Augmented \n",
    "samples = np.array([\n",
    "    [1,0.0, 1.0],\n",
    "    [1,1.0,0.0],\n",
    "    [1,0.5,1.5],\n",
    "    [1,1.0,1.0],\n",
    "    [1,-0.5,0.0]\n",
    "    ])"
   ]
  },
  {
   "cell_type": "code",
   "execution_count": 2,
   "id": "5c05488b",
   "metadata": {},
   "outputs": [],
   "source": [
    "def sequential_multi_class_perceptron_learning_algorithm(weights, samples, learning_rate=1, epochs=1, classes=3):\n",
    "    # This version of the batch perceptron learning algorithm requires normalisation and augmented notation.\n",
    "    w = np.array(weights)\n",
    "    y = [np.array(sample) for sample in samples]\n",
    "        \n",
    "    #a = [[0]*len(samples[0]) for i in range(0, classes)]\n",
    "    a = [[-0.5,0.0,1.5],\n",
    "         [-3.0,1.5,0.0],\n",
    "         [0.5,1.5,1.5]]\n",
    "    \n",
    "    g = [0 for i in range(0, classes)]\n",
    "    \n",
    "    for epoch in range(1, epochs + 1):\n",
    "        print(\"Epoch %i - sequential multiclass perceptron learning algorithm\" % epoch)\n",
    "        for k in range(0, len(y)):\n",
    "            for i in range(0,len(a)):\n",
    "                g[i] = np.matmul(np.transpose(a[i]),y[k]) \n",
    "            j = 0\n",
    "            max_g = max(g)\n",
    "            \n",
    "            for i,gi in enumerate(g):\n",
    "                if(gi == max_g):\n",
    "                    j = i\n",
    "                    break\n",
    "            \n",
    "            print(\" > at: %s, yt: %s, g: %s, j: %s, w: %s\"\n",
    "                  % (str(np.array(a)), str(np.array(y[k])), str(np.array(g)), str(j+1), str(w[k])))\n",
    "            \n",
    "            if((j+1) != w[k]):\n",
    "                # update weights \n",
    "                a[w[k]-1] = a[w[k]-1] + learning_rate * y[k]\n",
    "                a[j] = a[j] - learning_rate * y[k]\n",
    "                \n",
    "        print(\"\")\n",
    "    "
   ]
  },
  {
   "cell_type": "code",
   "execution_count": 3,
   "id": "eed87ba6",
   "metadata": {},
   "outputs": [
    {
     "name": "stdout",
     "output_type": "stream",
     "text": [
      "Epoch 1 - sequential multiclass perceptron learning algorithm\n",
      " > at: [[-0.5  0.   1.5]\n",
      " [-3.   1.5  0. ]\n",
      " [ 0.5  1.5  1.5]], yt: [1. 0. 1.], g: [ 1. -3.  2.], j: 3, w: 1\n",
      " > at: [[ 0.5  0.   2.5]\n",
      " [-3.   1.5  0. ]\n",
      " [-0.5  1.5  0.5]], yt: [1. 1. 0.], g: [ 0.5 -1.5  1. ], j: 3, w: 1\n",
      " > at: [[ 1.5  1.   2.5]\n",
      " [-3.   1.5  0. ]\n",
      " [-1.5  0.5  0.5]], yt: [1.  0.5 1.5], g: [ 5.75 -2.25 -0.5 ], j: 1, w: 2\n",
      " > at: [[ 0.5  0.5  1. ]\n",
      " [-2.   2.   1.5]\n",
      " [-1.5  0.5  0.5]], yt: [1. 1. 1.], g: [ 2.   1.5 -0.5], j: 1, w: 2\n",
      " > at: [[-0.5 -0.5  0. ]\n",
      " [-1.   3.   2.5]\n",
      " [-1.5  0.5  0.5]], yt: [ 1.  -0.5  0. ], g: [-0.25 -2.5  -1.75], j: 1, w: 3\n",
      "\n"
     ]
    }
   ],
   "source": [
    "sequential_multi_class_perceptron_learning_algorithm(weights, samples)\n"
   ]
  },
  {
   "cell_type": "code",
   "execution_count": null,
   "id": "a10229fc",
   "metadata": {},
   "outputs": [],
   "source": []
  }
 ],
 "metadata": {
  "kernelspec": {
   "display_name": "Python 3 (ipykernel)",
   "language": "python",
   "name": "python3"
  },
  "language_info": {
   "codemirror_mode": {
    "name": "ipython",
    "version": 3
   },
   "file_extension": ".py",
   "mimetype": "text/x-python",
   "name": "python",
   "nbconvert_exporter": "python",
   "pygments_lexer": "ipython3",
   "version": "3.8.10"
  }
 },
 "nbformat": 4,
 "nbformat_minor": 5
}

{
 "cells": [
  {
   "cell_type": "code",
   "execution_count": 4,
   "id": "8f0509af",
   "metadata": {},
   "outputs": [],
   "source": [
    "import numpy as np\n",
    "\n",
    "\n",
    "wj = np.array([[-0.7057, 1.9061, 2.6605, -1.1359],\n",
    "               [0.4900, 1.9324, -0.4269, -5.1570],\n",
    "               [0.9438, -5.4160, -0.3431, -0.2931]])\n",
    "\n",
    "wj0 = np.array([[4.8432],\n",
    "              [0.3973],\n",
    "              [2.1761]])\n",
    "\n",
    "wk = np.array([[-1.1444, 0.3115, -9.9812],\n",
    "               [0.0106, 11.5477, 2.6479]])\n",
    "\n",
    "wk0 = np.array([[2.5230],\n",
    "              [2.6463]])\n",
    "\n",
    "x = np.array([1,0,1,0])"
   ]
  },
  {
   "cell_type": "code",
   "execution_count": 15,
   "id": "6d464947",
   "metadata": {},
   "outputs": [],
   "source": [
    "import numpy as np\n",
    "\n",
    "# w11, w12, w13,...\n",
    "wj = np.array([[0.5, 0],\n",
    "               [0.3, -0.7]])\n",
    "\n",
    "wj0 = np.array([[0.2],\n",
    "              [0]])\n",
    "\n",
    "# w'11, w'12, w'13...\n",
    "wk = np.array([[0.8, 1.6]])\n",
    "\n",
    "wk0 = np.array([[-0.4]])\n",
    "\n",
    "x = np.array([0.1, 0.9])"
   ]
  },
  {
   "cell_type": "code",
   "execution_count": 16,
   "id": "949750fa",
   "metadata": {},
   "outputs": [],
   "source": [
    "from math import tanh, exp\n",
    "def symmetric_tangent_sigmoid_function(x):\n",
    "    return 2 / (1 + exp(-2 * x)) - 1\n",
    "\n",
    "def logarithmic_sigmoid_function(x):\n",
    "    return round(1 / (1 + exp(-x)),4)\n"
   ]
  },
  {
   "cell_type": "code",
   "execution_count": 17,
   "id": "7b032447",
   "metadata": {},
   "outputs": [
    {
     "name": "stdout",
     "output_type": "stream",
     "text": [
      "> hidden units: \n",
      "[0.2449, -0.537]\n",
      "> output units: \n",
      "[-0.7869]\n"
     ]
    }
   ],
   "source": [
    "# compute hidden layer units \n",
    "\n",
    "y = []\n",
    "z = []\n",
    "for i in range(0, len(wj)):\n",
    "    y_i = symmetric_tangent_sigmoid_function(np.matmul(wj[i], x) + wj0[i])\n",
    "    y.append(round(y_i,4))\n",
    "\n",
    "print(\"> hidden units: \")\n",
    "print(y)\n",
    "# y = [ y1, y2, y3...]\n",
    "\n",
    "for i in range(0,len(wk)):\n",
    "    z_i = symmetric_tangent_sigmoid_function(np.matmul(wk[i], y) + wk0[i])\n",
    "    z.append(round(z_i,4))\n",
    "\n",
    "print(\"> output units: \")\n",
    "print(z)\n"
   ]
  },
  {
   "cell_type": "code",
   "execution_count": null,
   "id": "bea50343",
   "metadata": {},
   "outputs": [],
   "source": []
  }
 ],
 "metadata": {
  "kernelspec": {
   "display_name": "Python 3 (ipykernel)",
   "language": "python",
   "name": "python3"
  },
  "language_info": {
   "codemirror_mode": {
    "name": "ipython",
    "version": 3
   },
   "file_extension": ".py",
   "mimetype": "text/x-python",
   "name": "python",
   "nbconvert_exporter": "python",
   "pygments_lexer": "ipython3",
   "version": "3.8.10"
  }
 },
 "nbformat": 4,
 "nbformat_minor": 5
}

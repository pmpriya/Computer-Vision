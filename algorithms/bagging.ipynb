{
 "cells": [
  {
   "cell_type": "code",
   "execution_count": 65,
   "id": "f96fe0ca",
   "metadata": {},
   "outputs": [],
   "source": [
    "def h1(x):\n",
    "    if(x[0] > -0.5):\n",
    "        return 1\n",
    "    else:\n",
    "        return -1 \n",
    "    \n",
    "def h2(x):\n",
    "    if(x[0] > -0.5):\n",
    "        return -1 \n",
    "    else:\n",
    "        return 1 \n",
    "\n",
    "def h3(x):\n",
    "    if(x[0] > 0.5):\n",
    "        return 1\n",
    "    else:\n",
    "        return -1 \n",
    "    \n",
    "def h4(x):\n",
    "    if(x[0] > 0.5):\n",
    "        return -1 \n",
    "    else:\n",
    "        return 1 \n",
    "    \n",
    "def h5(x):\n",
    "    if(x[1] > -0.5):\n",
    "        return 1\n",
    "    else:\n",
    "        return -1 \n",
    "    \n",
    "def h6(x):\n",
    "    if(x[1] > -0.5):\n",
    "        return -1 \n",
    "    else:\n",
    "        return 1 \n",
    "    \n",
    "def h7(x):\n",
    "    if(x[1] > 0.5):\n",
    "        return 1 \n",
    "    else:\n",
    "        return -1 \n",
    "    \n",
    "def h8(x):\n",
    "    if(x[1] > 0.5):\n",
    "        return -1\n",
    "    else:\n",
    "        return 1 "
   ]
  },
  {
   "cell_type": "code",
   "execution_count": 66,
   "id": "6139ad3d",
   "metadata": {},
   "outputs": [],
   "source": [
    "def sgn(x):\n",
    "    if(x > 0):\n",
    "        return 1\n",
    "    elif(x == 0):\n",
    "        return 1\n",
    "    else:\n",
    "        return -1\n",
    "\n",
    "def bagging(x,y):\n",
    "    h = ['h1','h2','h3','h4','h5','h6','h7','h8']\n",
    "    #h = ['h2','h3','h5','h8']\n",
    "    f = []\n",
    "    for x_i in x:\n",
    "        count = 0\n",
    "        for h_i in h:\n",
    "            count = count + (1/8) * globals()[h_i](x_i)\n",
    "        count = sgn(count)\n",
    "        f.append(count)\n",
    "    print(\"> f final: \", f)\n",
    "    \n",
    "    count = 0\n",
    "    for i in range(0, len(y)):\n",
    "        if(f[i] != y[i]):\n",
    "            # misclassified\n",
    "            count = count + 1\n",
    "    return count/len(y)\n",
    "\n",
    "def improve_bagging(samples, y):\n",
    "    # get training errors of individual and feed it into the bagging classifier \n",
    "    h = ['h1','h2','h3','h4','h5','h6','h7','h8']\n",
    "    error = []\n",
    "    for h_i in h:\n",
    "        count = 0\n",
    "        for i,sample in enumerate(samples):\n",
    "            #print(sample)\n",
    "            if(y[i] != globals()[h_i](sample)):\n",
    "                # misclassified\n",
    "                count = count + 1\n",
    "        error.append(count)\n",
    "    error = [error_i / len(samples) for error_i in error]\n",
    "    \n",
    "    classifiers = []\n",
    "    errors = []\n",
    "    print(\"> chosen classifiers : \", end=\" \")\n",
    "    for i, error_i in enumerate(error):\n",
    "        if error_i < 0.5:\n",
    "            print(i+1, end=\" \")\n",
    "            classifiers.append(i)\n",
    "            errors.append(error_i)\n",
    "    print('\\n')\n",
    "    print(\"> corresponding errors : \", errors)\n",
    "    \n",
    "    "
   ]
  },
  {
   "cell_type": "code",
   "execution_count": 67,
   "id": "94251c23",
   "metadata": {},
   "outputs": [
    {
     "name": "stdout",
     "output_type": "stream",
     "text": [
      "> f final:  [1, 1, 1, 1]\n"
     ]
    },
    {
     "data": {
      "text/plain": [
       "0.5"
      ]
     },
     "execution_count": 67,
     "metadata": {},
     "output_type": "execute_result"
    }
   ],
   "source": [
    "import numpy as np\n",
    "x = np.array([[1,0],\n",
    "              [-1,0],\n",
    "              [0,1],\n",
    "              [0,-1]])\n",
    "\n",
    "y = np.array([1,1,-1,-1])\n",
    "bagging(x,y)"
   ]
  },
  {
   "cell_type": "code",
   "execution_count": 68,
   "id": "66aa9dbe",
   "metadata": {},
   "outputs": [
    {
     "name": "stdout",
     "output_type": "stream",
     "text": [
      "> chosen classifiers :  2 3 5 8 \n",
      "\n",
      "> corresponding errors :  [0.25, 0.25, 0.25, 0.25]\n"
     ]
    }
   ],
   "source": [
    "improve_bagging(x,y)"
   ]
  },
  {
   "cell_type": "code",
   "execution_count": null,
   "id": "c4026fb0",
   "metadata": {},
   "outputs": [],
   "source": []
  }
 ],
 "metadata": {
  "kernelspec": {
   "display_name": "Python 3 (ipykernel)",
   "language": "python",
   "name": "python3"
  },
  "language_info": {
   "codemirror_mode": {
    "name": "ipython",
    "version": 3
   },
   "file_extension": ".py",
   "mimetype": "text/x-python",
   "name": "python",
   "nbconvert_exporter": "python",
   "pygments_lexer": "ipython3",
   "version": "3.8.10"
  }
 },
 "nbformat": 4,
 "nbformat_minor": 5
}

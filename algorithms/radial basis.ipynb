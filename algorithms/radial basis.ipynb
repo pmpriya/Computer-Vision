{
 "cells": [
  {
   "cell_type": "code",
   "execution_count": 202,
   "id": "0dd55f8b",
   "metadata": {},
   "outputs": [],
   "source": [
    "import numpy as np\n",
    "c = np.array([[0.00,0.40],\n",
    "              [1.00,0.90],\n",
    "              [0.20,0.00]])\n",
    "\n",
    "x = np.array([[0.90,0.90],\n",
    "              [1.00,0.60],\n",
    "              [0.20,0.50],\n",
    "              [0.20,0.00],\n",
    "              [0.50,0.80],\n",
    "              [0.40,0.60],\n",
    "              [0.00,0.40],\n",
    "              [0.20,0.60],\n",
    "              [0.30,0.90],\n",
    "              [1.00,0.90]])\n",
    "\n",
    "t = np.array([0, 1, 0, 0, 1, 1, 1, 0, 1, 1])"
   ]
  },
  {
   "cell_type": "code",
   "execution_count": 167,
   "id": "e14f6bb7",
   "metadata": {},
   "outputs": [],
   "source": [
    "import numpy as np\n",
    "c = np.array([[0.1667],\n",
    "              [0.35],\n",
    "              [0.5525],\n",
    "              [0.8833]])\n",
    "\n",
    "x = np.array([[0.0500],\n",
    "              [0.2000],\n",
    "              [0.2500],\n",
    "              [0.3000],\n",
    "              [0.4000],\n",
    "              [0.4300],\n",
    "              [0.4800],\n",
    "              [0.6000],\n",
    "              [0.7000],\n",
    "              [0.8000],\n",
    "              [0.9000],\n",
    "              [0.9500]])\n",
    "\n",
    "t = np.array([0.0863,0.2662,0.2362,0.1687,0.1260,0.1756,0.3290,0.6694,0.4573,0.3320,0.4063,0.3535])"
   ]
  },
  {
   "cell_type": "code",
   "execution_count": 203,
   "id": "3b4edd9e",
   "metadata": {},
   "outputs": [],
   "source": [
    "import numpy as np\n",
    "from math import exp\n",
    "from itertools import combinations\n",
    "from statistics import mean\n",
    "\n",
    "def guassian(x,c,sigma):\n",
    "    return exp(-(((np.linalg.norm(x-c))**2) / (2 * (sigma**2))))\n",
    "\n",
    "def row_max(c):\n",
    "    row = []\n",
    "    for comb in combinations(c, 2):\n",
    "        row.append(np.linalg.norm(np.array(comb[0])-np.array(comb[1])))\n",
    "    return max(row)\n",
    "\n",
    "def row_avg(c):\n",
    "    row = []\n",
    "    for comb in combinations(c, 2):\n",
    "        row.append(np.linalg.norm(np.array(comb[0])-np.array(comb[1])))\n",
    "    return mean(row)\n",
    "\n",
    "def sgn(z):\n",
    "    if(z > 0.5):\n",
    "        return 1\n",
    "    else:\n",
    "        return 0\n",
    "    \n",
    "def logarithmic_sigmoid_function(x):\n",
    "    return round(1 / (1 + exp(-x)),4)\n",
    "    \n",
    "def ssd(z,t):\n",
    "    ssdd = 0\n",
    "    for i in range(0, len(z)):\n",
    "        ssdd = ssdd + ((z[i] - t[i])**2)\n",
    "    return ssdd"
   ]
  },
  {
   "cell_type": "code",
   "execution_count": 206,
   "id": "626d7205",
   "metadata": {},
   "outputs": [],
   "source": [
    "import math \n",
    "import copy\n",
    "def radial_basis_function(c,x):\n",
    "    # standard deviation\n",
    "    print(row_max(c))\n",
    "    sigma = row_max(c) / math.sqrt(2* len(c))\n",
    "    #sigma = 0.1\n",
    "    #sigma = 2 * row_avg(c)\n",
    "    print(\"> sigma: \", sigma)\n",
    "    y = []\n",
    "    for xi in x:\n",
    "        yi = []\n",
    "        for i in range(0, len(c)):\n",
    "            yi.append(round(guassian(xi,c[i],sigma),4))\n",
    "        #print(yi)\n",
    "        y.append(yi)\n",
    "        \n",
    "    print(\"> each list represents y (y1, y2..) for each sample\",y)\n",
    "\n",
    "    # augmenting \n",
    "    y_aug = copy.deepcopy(y)\n",
    "    for yi in y_aug:\n",
    "        yi.append(1)  \n",
    "\n",
    "    y_aug = np.array(y_aug)\n",
    "    W = np.round_(np.matmul(np.matmul(np.linalg.inv(np.matmul(np.transpose(y_aug), y_aug)), np.transpose(y_aug)),t),4)\n",
    "    print(\"> Output weights: \", W)\n",
    "    \n",
    "    z = np.round_(np.matmul(y_aug, np.transpose(W)),4)\n",
    "    print(\"> z : \", z)\n",
    "    #J = ((z-t)**2).sum()\n",
    "    J = ssd(z,t)\n",
    "    print(\" cost J : \", J)\n",
    "    _class = [logarithmic_sigmoid_function(zi) for zi in z]\n",
    "    print(\"> classifying output: \", _class)\n",
    "    return W\n",
    "\n",
    "def classifying(w, c , x):\n",
    "    \n",
    "    print('\\n')\n",
    "    print('> classifying new points :')\n",
    "    # standard deviation\n",
    "    sigma = row_max(c) / math.sqrt(2* len(c))\n",
    "    #sigma = 0.1\n",
    "    #sigma = 2 * row_avg(c)\n",
    "    print(\"> sigma: \", sigma)\n",
    "    y = []\n",
    "    for xi in x:\n",
    "        yi = []\n",
    "        for i in range(0, len(c)):\n",
    "            yi.append(round(guassian(xi,c[i],sigma),4))\n",
    "        #print(yi)\n",
    "        y.append(yi)\n",
    "        \n",
    "    print(\"> each list represents y (y1, y2..) for each sample\",y)\n",
    "    \n",
    "    # augmenting \n",
    "    y_aug = copy.deepcopy(y)\n",
    "    for yi in y_aug:\n",
    "        yi.append(1)  \n",
    "\n",
    "    y_aug = np.array(y_aug)\n",
    "    \n",
    "    z = np.round_(np.matmul(y_aug, np.transpose(w)),4)\n",
    "    print(\"> z : \", z)\n",
    "    \n",
    "    # USING SGN FUNCTION TO CLASSIFY\n",
    "    \n",
    "    #_class = [((sgn(zi-0.5)+1)/2) for zi in z]\n",
    "    _class = [sgn(zi) for zi in z]\n",
    "    print(\"> classifying output: \", _class)\n",
    "        "
   ]
  },
  {
   "cell_type": "code",
   "execution_count": 207,
   "id": "b5a3f408",
   "metadata": {
    "scrolled": true
   },
   "outputs": [
    {
     "name": "stdout",
     "output_type": "stream",
     "text": [
      "1.2041594578792296\n",
      "> sigma:  0.4915960401250876\n",
      "> each list represents y (y1, y2..) for each sample [[0.1116, 0.9795, 0.0679], [0.1163, 0.8301, 0.1263], [0.9017, 0.1911, 0.5962], [0.6611, 0.0498, 1.0], [0.4282, 0.584, 0.2208], [0.6611, 0.3941, 0.4371], [1.0, 0.0753, 0.6611], [0.8475, 0.2208, 0.4748], [0.4949, 0.3628, 0.1833], [0.0753, 1.0, 0.0498]]\n",
      "> Output weights:  [-0.708  -1.4957 -1.6418  2.3029]\n",
      "> z :  [0.6474 0.7716 0.3998 0.1186 0.7637 0.5278 0.3969 0.5931 1.1089 0.6721]\n",
      " cost J :  1.7588846899999997\n",
      "> classifying output:  [0.6564, 0.6839, 0.5986, 0.5296, 0.6822, 0.629, 0.5979, 0.6441, 0.7519, 0.662]\n"
     ]
    },
    {
     "data": {
      "text/plain": [
       "array([-0.708 , -1.4957, -1.6418,  2.3029])"
      ]
     },
     "execution_count": 207,
     "metadata": {},
     "output_type": "execute_result"
    }
   ],
   "source": [
    "radial_basis_function(c,x)"
   ]
  },
  {
   "cell_type": "code",
   "execution_count": 193,
   "id": "e86de3fe",
   "metadata": {},
   "outputs": [],
   "source": [
    "new_x = np.array([[0.5, -0.1],\n",
    "                  [-0.2,1.2],\n",
    "                  [0.8, 0.3],\n",
    "                  [1.8,0.6]])\n",
    "classifying(w, c, new_x)"
   ]
  },
  {
   "cell_type": "code",
   "execution_count": null,
   "id": "79d52355",
   "metadata": {},
   "outputs": [],
   "source": []
  }
 ],
 "metadata": {
  "kernelspec": {
   "display_name": "Python 3 (ipykernel)",
   "language": "python",
   "name": "python3"
  },
  "language_info": {
   "codemirror_mode": {
    "name": "ipython",
    "version": 3
   },
   "file_extension": ".py",
   "mimetype": "text/x-python",
   "name": "python",
   "nbconvert_exporter": "python",
   "pygments_lexer": "ipython3",
   "version": "3.8.10"
  }
 },
 "nbformat": 4,
 "nbformat_minor": 5
}
